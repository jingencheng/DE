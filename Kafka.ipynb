{
 "cells": [
  {
   "cell_type": "code",
   "execution_count": null,
   "metadata": {},
   "outputs": [],
   "source": [
    "# 启动 ZooKeeper\n",
    "# bin/zookeeper-server-start.sh config/zookeeper.properties\n",
    "\n",
    "# 启动 Kafka\n",
    "# bin/kafka-server-start.sh config/server.properties\n",
    "\n",
    "# 创建主题\n",
    "# bin/kafka-topics.sh --create --topic my-topic --bootstrap-server localhost:9092 --partitions 3 --replication-factor 1\n"
   ]
  },
  {
   "cell_type": "code",
   "execution_count": null,
   "metadata": {},
   "outputs": [],
   "source": [
    "from kafka import KafkaProducer\n",
    "import json\n",
    "import time\n",
    "\n",
    "# 创建生产者\n",
    "producer = KafkaProducer(bootstrap_servers='localhost:9092',\n",
    "                         value_serializer=lambda v: json.dumps(v).encode('utf-8'))\n",
    "\n",
    "# 发送消息\n",
    "for i in range(10):\n",
    "    message = {'number': i}\n",
    "    producer.send('my-topic', value=message)\n",
    "    print(f'Sent: {message}')\n",
    "    time.sleep(1)  # 模拟延迟\n"
   ]
  },
  {
   "cell_type": "code",
   "execution_count": null,
   "metadata": {},
   "outputs": [],
   "source": [
    "from kafka import KafkaConsumer\n",
    "import json\n",
    "\n",
    "# 创建消费者\n",
    "consumer = KafkaConsumer('my-topic',\n",
    "                         bootstrap_servers='localhost:9092',\n",
    "                         value_deserializer=lambda x: json.loads(x.decode('utf-8')),\n",
    "                         auto_offset_reset='earliest',\n",
    "                         group_id='my-group')\n",
    "\n",
    "# 读取消息\n",
    "for message in consumer:\n",
    "    print(f'Received: {message.value}')\n"
   ]
  },
  {
   "cell_type": "code",
   "execution_count": null,
   "metadata": {},
   "outputs": [],
   "source": [
    "# 启动消费者\n",
    "# python consumer.py\n",
    "\n",
    "# 启动生产者\n",
    "# python producer.py\n",
    "\n",
    "# 查看主题列表\n",
    "# bin/kafka-topics.sh --list --bootstrap-server localhost:9092\n",
    "\n",
    "# 查看主题的详细信息\n",
    "# bin/kafka-topics.sh --describe --topic my-topic --bootstrap-server localhost:9092"
   ]
  }
 ],
 "metadata": {
  "language_info": {
   "name": "python"
  }
 },
 "nbformat": 4,
 "nbformat_minor": 2
}
