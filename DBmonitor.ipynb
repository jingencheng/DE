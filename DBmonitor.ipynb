{
 "cells": [
  {
   "cell_type": "code",
   "execution_count": 3,
   "metadata": {},
   "outputs": [
    {
     "name": "stdout",
     "output_type": "stream",
     "text": [
      "当前数据库列表:\n",
      "encheng\n",
      "information_schema\n",
      "mysql\n",
      "performance_schema\n",
      "当前连接数: 1\n",
      "当前活动的查询数: 2\n",
      "--------------------------------------------------\n",
      "当前数据库列表:\n",
      "encheng\n",
      "information_schema\n",
      "mysql\n",
      "performance_schema\n",
      "当前连接数: 1\n",
      "当前活动的查询数: 2\n",
      "--------------------------------------------------\n",
      "监控结束。\n"
     ]
    }
   ],
   "source": [
    "import mysql.connector\n",
    "import time\n",
    "# 连接到数据库\n",
    "conn = mysql.connector.connect(\n",
    "    host=\"localhost\",\n",
    "    user=\"root\",\n",
    "    password=\"*****\",\n",
    "    database=\"*****\"\n",
    ")\n",
    "\n",
    "cursor = conn.cursor()\n",
    "\n",
    "try:\n",
    "    while True:\n",
    "        # 查询数据库列表\n",
    "        cursor.execute(\"SHOW DATABASES\")\n",
    "        databases = cursor.fetchall()\n",
    "        print(\"当前数据库列表:\")\n",
    "        for db in databases:\n",
    "            print(db[0])  # 打印数据库名称\n",
    "        \n",
    "        # 查询当前活动的连接数\n",
    "        cursor.execute(\"SHOW STATUS LIKE 'Threads_connected'\")\n",
    "        connections = cursor.fetchone()\n",
    "        print(f\"当前连接数: {connections[1]}\")\n",
    "        \n",
    "        # 查询当前活动的查询\n",
    "        cursor.execute(\"SHOW PROCESSLIST\")\n",
    "        processes = cursor.fetchall()\n",
    "        print(f\"当前活动的查询数: {len(processes)}\")\n",
    "\n",
    "        print(\"-\" * 50)  # 分隔线\n",
    "\n",
    "        # 等待一段时间后再次执行查询\n",
    "        time.sleep(10)  # 每60秒检查一次\n",
    "\n",
    "except KeyboardInterrupt:\n",
    "    print(\"监控结束。\")\n",
    "\n",
    "finally:\n",
    "    # 关闭游标和连接\n",
    "    cursor.close()\n",
    "    conn.close()"
   ]
  }
 ],
 "metadata": {
  "kernelspec": {
   "display_name": "base",
   "language": "python",
   "name": "python3"
  },
  "language_info": {
   "codemirror_mode": {
    "name": "ipython",
    "version": 3
   },
   "file_extension": ".py",
   "mimetype": "text/x-python",
   "name": "python",
   "nbconvert_exporter": "python",
   "pygments_lexer": "ipython3",
   "version": "3.12.7"
  }
 },
 "nbformat": 4,
 "nbformat_minor": 2
}
