{
 "cells": [
  {
   "cell_type": "code",
   "execution_count": 4,
   "metadata": {},
   "outputs": [
    {
     "name": "stdout",
     "output_type": "stream",
     "text": [
      "(1, 'Widget A', 10.5, 3, datetime.datetime(2023, 1, 10, 0, 0))\n",
      "(2, 'Widget B', 15.75, 2, datetime.datetime(2023, 1, 12, 0, 0))\n",
      "(3, 'Widget C', 7.25, 5, datetime.datetime(2023, 1, 15, 0, 0))\n",
      "(4, 'Widget D', 12.0, 1, datetime.datetime(2023, 1, 18, 0, 0))\n",
      "(5, 'Widget E', 9.99, 4, datetime.datetime(2023, 1, 20, 0, 0))\n"
     ]
    }
   ],
   "source": [
    "import pymysql\n",
    "\n",
    "# 建立数据库连接\n",
    "connection = pymysql.connect(\n",
    "    host='localhost',\n",
    "    user='root',\n",
    "    password='*****',\n",
    "    database='*****'\n",
    ")\n",
    "\n",
    "try:\n",
    "    cursor = connection.cursor()\n",
    "    \n",
    "    # 执行查询\n",
    "    cursor.execute(\"*****************\")\n",
    "    \n",
    "    # 获取结果\n",
    "    results = cursor.fetchall()\n",
    "    for row in results:\n",
    "        print(row)\n",
    "\n",
    "except Exception as e:\n",
    "    print(f\"Error: {e}\")\n",
    "\n",
    "finally:\n",
    "    # 关闭游标和连接\n",
    "    cursor.close()\n",
    "    connection.close()\n"
   ]
  }
 ],
 "metadata": {
  "kernelspec": {
   "display_name": "base",
   "language": "python",
   "name": "python3"
  },
  "language_info": {
   "codemirror_mode": {
    "name": "ipython",
    "version": 3
   },
   "file_extension": ".py",
   "mimetype": "text/x-python",
   "name": "python",
   "nbconvert_exporter": "python",
   "pygments_lexer": "ipython3",
   "version": "3.12.7"
  }
 },
 "nbformat": 4,
 "nbformat_minor": 2
}
